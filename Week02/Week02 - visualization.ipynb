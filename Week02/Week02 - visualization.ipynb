{
 "cells": [
  {
   "cell_type": "markdown",
   "metadata": {
    "id": "a18JEgIo3pyl"
   },
   "source": [
    "# Agenda\n",
    "\n",
    "\n",
    "- Part-I: Data visualization\n",
    "\n",
    "  - Best practices and bad practices\n",
    "\n",
    "  - Examples and resources\n",
    "\n",
    "- Part-II: Matplotlib\n",
    "\n",
    "  - Anatomy of a plot\n",
    "\n",
    "  - Subplots\n",
    "\n",
    "  - Bar charts and histograms\n",
    "\n",
    "- Hands on experiments"
   ]
  },
  {
   "cell_type": "markdown",
   "metadata": {
    "id": "OXopCstylgvf"
   },
   "source": [
    "# Part-I"
   ]
  },
  {
   "cell_type": "markdown",
   "metadata": {
    "id": "g0FAX4tXlkuh"
   },
   "source": [
    "[Reddit - Data is beatiful](https://www.reddit.com/r/dataisbeautiful/)\n",
    "\n",
    "[Reddit - Data is Ugly](https://www.reddit.com/r/dataisugly/)\n",
    "\n",
    "\n",
    "https://faculty.ucmerced.edu/jvevea/classes/Spark/readings/Cairo2015_Chapter_GraphicsLiesMisleadingVisuals.pdf"
   ]
  },
  {
   "cell_type": "markdown",
   "metadata": {
    "id": "h6ASd1b2lkU-"
   },
   "source": [
    "## Discussion\n",
    "\n",
    "\n",
    "- [Data Storytelling Tips](https://visme.co/blog/data-storytelling-tips/) : Section: Examples of How to Improve Data Storytelling"
   ]
  },
  {
   "cell_type": "markdown",
   "metadata": {
    "id": "bn9jv_OoRf0K"
   },
   "source": [
    "# Part-II"
   ]
  },
  {
   "cell_type": "markdown",
   "metadata": {
    "id": "P4TaRuEuQfEy"
   },
   "source": [
    "## Matplotlib\n",
    "\n"
   ]
  },
  {
   "cell_type": "code",
   "execution_count": 1,
   "metadata": {
    "id": "okTIeoo4GgZH"
   },
   "outputs": [],
   "source": [
    "# import matplotlib\n",
    "import matplotlib.pyplot as plt\n"
   ]
  },
  {
   "cell_type": "markdown",
   "metadata": {
    "id": "XJH9SbRgZVV6"
   },
   "source": [
    "- There are two modes of matplotlib: 'pyplot' and 'object oriented'. Now we will work in the 'pyplot' mode.\n",
    "\n",
    "- You can do more with object-oriented API but it requires more knowledge about the structure of the package. \n",
    "\n",
    "- On the other hand, pyplot API is very handy however it is not as flexible as object-oriented API.\n",
    "\n",
    "- Creating a visualization is as simple as:"
   ]
  },
  {
   "cell_type": "markdown",
   "metadata": {
    "id": "GCZmmGTpQrXC"
   },
   "source": [
    "### Basic Plots"
   ]
  },
  {
   "cell_type": "code",
   "execution_count": 2,
   "metadata": {
    "colab": {
     "base_uri": "https://localhost:8080/",
     "height": 265
    },
    "id": "MUfC1laaW9jc",
    "outputId": "1ba33bb7-535f-4497-f046-30e895367b0f"
   },
   "outputs": [
    {
     "data": {
      "image/png": "[encoded data removed]",
      "text/plain": [
       "<Figure size 432x288 with 1 Axes>"
      ]
     },
     "metadata": {
      "needs_background": "light"
     },
     "output_type": "display_data"
    }
   ],
   "source": [
    "import matplotlib.pyplot as plt\n",
    "plt.plot([1, 2, 3, 4])\n",
    "plt.ylabel('some numbers')\n",
    "plt.xlabel('x axis')\n",
    "plt.show()"
   ]
  },
  {
   "cell_type": "markdown",
   "metadata": {
    "id": "iukhx5lmZpcP"
   },
   "source": [
    "[Pyplot tutorial](https://matplotlib.org/stable/tutorials/introductory/pyplot.html)"
   ]
  },
  {
   "cell_type": "markdown",
   "metadata": {
    "id": "dx7QV_7SdDs9"
   },
   "source": [
    "Changing styles"
   ]
  },
  {
   "cell_type": "code",
   "execution_count": 12,
   "metadata": {
    "colab": {
     "base_uri": "https://localhost:8080/",
     "height": 269
    },
    "id": "rkTUavFtZ4mY",
    "outputId": "defe53ab-eb5d-4bd0-ce23-872a1a45ef04"
   },
   "outputs": [
    {
     "data": {
      "image/png": "[encoded data removed]",
      "text/plain": [
       "<Figure size 432x288 with 1 Axes>"
      ]
     },
     "metadata": {
      "needs_background": "light"
     },
     "output_type": "display_data"
    }
   ],
   "source": [
    "# plot o's with red color\n",
    "# try squares and dashes also\n",
    "plt.plot([1, 2, 3, 4], [1, 4, 9, 16],'or')\n",
    "\n",
    "# plt.axis(xmin, xmax, ymin, ymax)\n",
    "plt.axis([0, 6, 0, 20])\n",
    "\n",
    "plt.show()"
   ]
  },
  {
   "cell_type": "markdown",
   "metadata": {
    "id": "FTubRDr1drgR"
   },
   "source": [
    "- In addition to lists matplotlib can work with numpy arrays (in fact this is more practical and common.) \n",
    "\n",
    "- Also we can plot multiple lines into the same figure."
   ]
  },
  {
   "cell_type": "code",
   "execution_count": 13,
   "metadata": {},
   "outputs": [
    {
     "name": "stdout",
     "output_type": "stream",
     "text": [
      "[0.  0.2 0.4 0.6 0.8 1.  1.2 1.4 1.6 1.8 2.  2.2 2.4 2.6 2.8 3.  3.2 3.4\n",
      " 3.6 3.8 4.  4.2 4.4 4.6 4.8]\n"
     ]
    }
   ],
   "source": [
    "import numpy as np\n",
    "\n",
    "# evenly sampled time at 200ms intervals\n",
    "t = np.arange(0., 5., 0.2)\n",
    "print(t)"
   ]
  },
  {
   "cell_type": "code",
   "execution_count": 15,
   "metadata": {
    "colab": {
     "base_uri": "https://localhost:8080/",
     "height": 302
    },
    "id": "Y73LJqu4asEz",
    "outputId": "febadb70-eba0-42ff-cc70-516a7e984208"
   },
   "outputs": [
    {
     "data": {
      "image/png": "[encoded data removed]",
      "text/plain": [
       "<Figure size 432x288 with 1 Axes>"
      ]
     },
     "metadata": {
      "needs_background": "light"
     },
     "output_type": "display_data"
    }
   ],
   "source": [
    "# red dashes, blue squares and green triangles\n",
    "# plt.plot(t, 2*t, 'r--', t, t**2, 'bs', t, t**3, 'g^')\n",
    "\n",
    "plt.plot(t, 2*t, 'r--')\n",
    "plt.plot(t, t**2, 'bs')\n",
    "plt.plot(t, t**3, 'g^')\n",
    "\n",
    "plt.show()"
   ]
  },
  {
   "cell_type": "markdown",
   "metadata": {
    "id": "xwFE2IHPbL9u"
   },
   "source": [
    "### Subplots"
   ]
  },
  {
   "cell_type": "code",
   "execution_count": 16,
   "metadata": {},
   "outputs": [],
   "source": [
    "def f(t):\n",
    "    return np.exp(-t) * np.cos(2*np.pi*t)"
   ]
  },
  {
   "cell_type": "code",
   "execution_count": 19,
   "metadata": {},
   "outputs": [],
   "source": [
    "t1 = np.arange(0.0, 5.0, 0.1)\n",
    "t2 = np.arange(0.0, 5.0, 0.02)\n",
    "\n",
    "# t1, t2"
   ]
  },
  {
   "cell_type": "code",
   "execution_count": 21,
   "metadata": {
    "colab": {
     "base_uri": "https://localhost:8080/",
     "height": 265
    },
    "id": "7aJZ6UeLQcfQ",
    "outputId": "616fe2bb-ba8c-4d4b-db43-e8d54cd64550"
   },
   "outputs": [
    {
     "data": {
      "image/png": "[encoded data removed]",
      "text/plain": [
       "<Figure size 432x288 with 2 Axes>"
      ]
     },
     "metadata": {
      "needs_background": "light"
     },
     "output_type": "display_data"
    }
   ],
   "source": [
    "plt.figure()\n",
    "plt.subplot(211)\n",
    "plt.plot(t1, f(t1), 'bo', t2, f(t2), 'k')\n",
    "plt.subplot(212)\n",
    "plt.plot(t2, np.cos(2*np.pi*t2), 'r--')\n",
    "plt.show()\n"
   ]
  },
  {
   "cell_type": "code",
   "execution_count": 28,
   "metadata": {},
   "outputs": [
    {
     "data": {
      "image/png": "[encoded data removed]",
      "text/plain": [
       "<Figure size 432x288 with 7 Axes>"
      ]
     },
     "metadata": {
      "needs_background": "light"
     },
     "output_type": "display_data"
    }
   ],
   "source": [
    "# Examples\n",
    "\n",
    "plt.figure()\n",
    "plt.subplot(3,3,1)\n",
    "plt.plot(t1, f(t1), 'bo')\n",
    "plt.plot(t2, f(t2), 'k')\n",
    "\n",
    "plt.subplot(3,3,2)\n",
    "plt.plot(t1, f(t1), 'ro')\n",
    "plt.plot(t2, f(t2), 'k')\n",
    "\n",
    "plt.subplot(3,3,3)\n",
    "plt.plot(t1, f(t1), 'go')\n",
    "plt.plot(t2, f(t2), 'k')\n",
    "\n",
    "plt.subplot(3,3, (4, 7))\n",
    "plt.plot(t1, f(t1), 'y^')\n",
    "plt.plot(t2, f(t2), 'k')\n",
    "\n",
    "plt.subplot(3,3,(5, 6))\n",
    "plt.plot(t1, f(t1), 'bo')\n",
    "plt.plot(t2, f(t2), 'k')\n",
    "\n",
    "plt.subplot(3,3,8)\n",
    "plt.plot(t1, f(t1), 'bo')\n",
    "plt.plot(t2, f(t2), 'k')\n",
    "\n",
    "plt.subplot(3,3,9)\n",
    "plt.plot(t1, f(t1), 'bo')\n",
    "plt.plot(t2, f(t2), 'k')\n",
    "\n",
    "plt.show()"
   ]
  },
  {
   "cell_type": "markdown",
   "metadata": {
    "id": "W27vYj1YT1uR"
   },
   "source": [
    "### Working with text"
   ]
  },
  {
   "cell_type": "code",
   "execution_count": 29,
   "metadata": {
    "colab": {
     "base_uri": "https://localhost:8080/",
     "height": 295
    },
    "id": "ArWRtOxvT4Kr",
    "outputId": "d67cda4d-47c1-48d5-9f31-dd05990a41a2"
   },
   "outputs": [
    {
     "data": {
      "image/png": "[encoded data removed]",
      "text/plain": [
       "<Figure size 432x288 with 1 Axes>"
      ]
     },
     "metadata": {
      "needs_background": "light"
     },
     "output_type": "display_data"
    }
   ],
   "source": [
    "mu, sigma = 100, 15\n",
    "x = mu + sigma * np.random.randn(10000)\n",
    "\n",
    "# the histogram of the data\n",
    "n, bins, patches = plt.hist(x, 50, density=1, facecolor='g', alpha=0.75)\n",
    "\n",
    "\n",
    "plt.xlabel('Smarts')\n",
    "plt.ylabel('Density')\n",
    "plt.title('Histogram of IQ')\n",
    "plt.text(60, .025, r'$\\mu=100,\\ \\sigma=15$')\n",
    "\n",
    "plt.axis([40, 160, 0, 0.03])\n",
    "plt.grid(True)\n",
    "plt.show()"
   ]
  },
  {
   "cell_type": "markdown",
   "metadata": {
    "id": "K6RmsPgOUTIn"
   },
   "source": [
    "### Bar plots and Histograms"
   ]
  },
  {
   "cell_type": "code",
   "execution_count": 36,
   "metadata": {
    "colab": {
     "base_uri": "https://localhost:8080/",
     "height": 266
    },
    "id": "KVZqoKX5T4ow",
    "outputId": "0e81931b-b9fa-4ddc-a71d-7cf2e3955a5f",
    "scrolled": true
   },
   "outputs": [
    {
     "data": {
      "image/png": "[encoded data removed]",
      "text/plain": [
       "<Figure size 432x288 with 1 Axes>"
      ]
     },
     "metadata": {
      "needs_background": "light"
     },
     "output_type": "display_data"
    }
   ],
   "source": [
    "names = ['group_a', 'group_b', 'group_c', 'd']\n",
    "values = [1, 10, 100, 10000]\n",
    "\n",
    "\n",
    "plt.bar(names, values, color=['green', 'red','blue'], log=True, align='center', width=.5)\n",
    "plt.draw()"
   ]
  },
  {
   "cell_type": "markdown",
   "metadata": {
    "id": "sR6l4Q2fZa3i"
   },
   "source": [
    "[Source](https://matplotlib.org/stable/tutorials/introductory/pyplot.html)"
   ]
  },
  {
   "cell_type": "markdown",
   "metadata": {
    "id": "bJl5w1dkVvLH"
   },
   "source": [
    " Other parameters:\n",
    "\n",
    " - `color`\n",
    " - `log` True\n",
    " - `align`: 'edge' and `width` = 0.2 vs 0.5\n"
   ]
  },
  {
   "cell_type": "markdown",
   "metadata": {
    "id": "uu9CgUsEWrv-"
   },
   "source": [
    "### Histograms\n"
   ]
  },
  {
   "cell_type": "markdown",
   "metadata": {
    "id": "inkO9Ax0XX67"
   },
   "source": [
    "A histogram is an approximate representation of the distribution of numerical data. It was first introduced by Karl Pearson. To construct a histogram, the first step is to \"bin\" (or \"bucket\") the range of values—that is, divide the entire range of values into a series of intervals—and then count how many values fall into each interval. The bins are usually specified as consecutive, non-overlapping intervals of a variable. The bins (intervals) must be adjacent and are often (but not required to be) of equal size."
   ]
  },
  {
   "cell_type": "code",
   "execution_count": 39,
   "metadata": {
    "colab": {
     "base_uri": "https://localhost:8080/",
     "height": 483
    },
    "id": "xcxyvVvkUY8e",
    "outputId": "509740b3-3065-46ff-ff6c-96632f326e82"
   },
   "outputs": [
    {
     "data": {
      "text/plain": [
       "(array([1.7000e+01, 2.8400e+02, 2.5880e+03, 1.1512e+04, 2.6326e+04,\n",
       "        3.1824e+04, 1.9888e+04, 6.4350e+03, 1.0400e+03, 8.6000e+01]),\n",
       " array([0.289033  , 1.1825285 , 2.076024  , 2.9695195 , 3.863015  ,\n",
       "        4.7565105 , 5.650006  , 6.5435015 , 7.436997  , 8.33049249,\n",
       "        9.22398799]),\n",
       " <BarContainer object of 10 artists>)"
      ]
     },
     "execution_count": 39,
     "metadata": {},
     "output_type": "execute_result"
    },
    {
     "data": {
      "image/png": "[encoded data removed]",
      "text/plain": [
       "<Figure size 432x288 with 2 Axes>"
      ]
     },
     "metadata": {
      "needs_background": "light"
     },
     "output_type": "display_data"
    }
   ],
   "source": [
    "N_points = 100000\n",
    "n_bins = 10\n",
    "\n",
    "# Generate a normal distribution, center at x=0 and y=5\n",
    "x = np.random.randn(N_points)\n",
    "y = .4 * x + np.random.randn(100000) + 5\n",
    "\n",
    "fig, axs = plt.subplots(1, 2, sharey=True, tight_layout=True)\n",
    "\n",
    "# We can set the number of bins with the `bins` kwarg\n",
    "axs[0].hist(x, bins=n_bins)\n",
    "axs[1].hist(y, bins=n_bins)\n"
   ]
  },
  {
   "cell_type": "code",
   "execution_count": 44,
   "metadata": {},
   "outputs": [
    {
     "data": {
      "image/png": "[encoded data removed]",
      "text/plain": [
       "<Figure size 432x288 with 1 Axes>"
      ]
     },
     "metadata": {
      "needs_background": "light"
     },
     "output_type": "display_data"
    }
   ],
   "source": [
    "plt.hist(x)\n",
    "plt.hist(y, color='red', alpha=.1)\n",
    "\n",
    "plt.show()"
   ]
  },
  {
   "cell_type": "markdown",
   "metadata": {
    "id": "20Alm5GsYuzK"
   },
   "source": [
    "__Histogram - Extra__"
   ]
  },
  {
   "cell_type": "code",
   "execution_count": 45,
   "metadata": {
    "colab": {
     "base_uri": "https://localhost:8080/",
     "height": 247
    },
    "id": "6j63h8eQYdzL",
    "outputId": "7c0813b7-f87d-483f-a9fa-1bc0a1b1d604"
   },
   "outputs": [
    {
     "data": {
      "image/png": "[encoded data removed]",
      "text/plain": [
       "<Figure size 432x288 with 2 Axes>"
      ]
     },
     "metadata": {
      "needs_background": "light"
     },
     "output_type": "display_data"
    }
   ],
   "source": [
    "from matplotlib import colors\n",
    "from matplotlib.ticker import PercentFormatter\n",
    "fig, axs = plt.subplots(1, 2, tight_layout=True)\n",
    "\n",
    "# N is the count in each bin, bins is the lower-limit of the bin\n",
    "N, bins, patches = axs[0].hist(x, bins=n_bins)\n",
    "# print(patches)\n",
    "\n",
    "# We'll color code by height, but you could use any scalar\n",
    "fracs = N / N.max()\n",
    "\n",
    "# we need to normalize the data to 0..1 for the full range of the colormap\n",
    "norm = colors.Normalize(fracs.min(), fracs.max())\n",
    "\n",
    "# Now, we'll loop through our objects and set the color of each accordingly\n",
    "for thisfrac, thispatch in zip(fracs, patches):\n",
    "    color = plt.cm.viridis(norm(thisfrac))\n",
    "    thispatch.set_facecolor(color)\n",
    "\n",
    "# We can also normalize our inputs by the total number of counts\n",
    "axs[1].hist(x, bins=n_bins, density=True)\n",
    "\n",
    "# Now we format the y-axis to display percentage\n",
    "axs[1].yaxis.set_major_formatter(PercentFormatter(xmax=1))"
   ]
  },
  {
   "cell_type": "markdown",
   "metadata": {
    "id": "tfBEstrqZTsT"
   },
   "source": [
    "[Source](https://matplotlib.org/stable/gallery/statistics/hist.html)"
   ]
  },
  {
   "cell_type": "markdown",
   "metadata": {
    "id": "fLfPstAeZPx0"
   },
   "source": [
    "### Box Plots"
   ]
  },
  {
   "cell_type": "code",
   "execution_count": 46,
   "metadata": {
    "colab": {
     "base_uri": "https://localhost:8080/",
     "height": 414
    },
    "id": "xBnFUczrZPgX",
    "outputId": "6f72131b-e752-48c4-c6c5-035cf335ef28"
   },
   "outputs": [
    {
     "data": {
      "image/png": "[encoded data removed]",
      "text/plain": [
       "<Figure size 432x288 with 1 Axes>"
      ]
     },
     "metadata": {
      "needs_background": "light"
     },
     "output_type": "display_data"
    }
   ],
   "source": [
    "plt.boxplot(y);\n",
    "# plt.show()"
   ]
  },
  {
   "cell_type": "markdown",
   "metadata": {
    "id": "xdEQViYoane0"
   },
   "source": [
    "Things to do:\n",
    "\n",
    "- Explain Q1, Q3, IQR and outlier computations\n",
    "\n",
    "- Mention drawbacks of boxplots -- distributions is not very clear. (mention violin plots?)"
   ]
  },
  {
   "cell_type": "markdown",
   "metadata": {
    "id": "AqWBXR0VYtdl"
   },
   "source": [
    "# Part-III\n",
    "\n",
    "[Kaggle - NBA Players Data](https://www.kaggle.com/justinas/nba-players-data)\n",
    "\n"
   ]
  },
  {
   "cell_type": "code",
   "execution_count": 47,
   "metadata": {
    "id": "kNrA8oDSnM3I"
   },
   "outputs": [],
   "source": [
    "import pandas as pd\n",
    "\n",
    "nba_players = pd.read_csv('https://raw.githubusercontent.com/msaricaumbc/DS_data/master/all_seasons.csv', index_col = 0)\n"
   ]
  },
  {
   "cell_type": "code",
   "execution_count": 48,
   "metadata": {},
   "outputs": [
    {
     "data": {
      "text/plain": [
       "Index(['player_name', 'team_abbreviation', 'age', 'player_height',\n",
       "       'player_weight', 'college', 'country', 'draft_year', 'draft_round',\n",
       "       'draft_number', 'gp', 'pts', 'reb', 'ast', 'net_rating', 'oreb_pct',\n",
       "       'dreb_pct', 'usg_pct', 'ts_pct', 'ast_pct', 'season'],\n",
       "      dtype='object')"
      ]
     },
     "execution_count": 48,
     "metadata": {},
     "output_type": "execute_result"
    }
   ],
   "source": [
    "nba_players.columns"
   ]
  },
  {
   "cell_type": "markdown",
   "metadata": {
    "id": "t8SUnvAFmvUW"
   },
   "source": [
    "## Scatter Plot "
   ]
  },
  {
   "cell_type": "code",
   "execution_count": 49,
   "metadata": {
    "colab": {
     "base_uri": "https://localhost:8080/",
     "height": 265
    },
    "id": "TYZlKckJm_2m",
    "outputId": "a2e7a0d6-b4c9-43f3-a965-39bf9bc141db"
   },
   "outputs": [
    {
     "data": {
      "image/png": "[encoded data removed]",
      "text/plain": [
       "<Figure size 432x288 with 1 Axes>"
      ]
     },
     "metadata": {
      "needs_background": "light"
     },
     "output_type": "display_data"
    }
   ],
   "source": [
    "plt.scatter(nba_players.player_height, nba_players.ast)\n",
    "# change x-label\n",
    "plt.xlabel('Player Height')\n",
    "\n",
    "# change y-label\n",
    "plt.ylabel('Assist')\n",
    "\n",
    "# change title\n",
    "plt.title('NBA Player Height vs Assist')\n",
    "\n",
    "plt.draw()"
   ]
  },
  {
   "cell_type": "code",
   "execution_count": 50,
   "metadata": {
    "colab": {
     "base_uri": "https://localhost:8080/",
     "height": 358
    },
    "id": "mNEubUGnsoAU",
    "outputId": "28193096-a6e1-4a1e-cb70-e38f8f6db011"
   },
   "outputs": [
    {
     "data": {
      "text/plain": [
       "(array([2999., 3300., 2162., 1461.,  841.,  544.,  229.,  131.,   29.,\n",
       "           4.]),\n",
       " array([ 0.  ,  3.61,  7.22, 10.83, 14.44, 18.05, 21.66, 25.27, 28.88,\n",
       "        32.49, 36.1 ]),\n",
       " <BarContainer object of 10 artists>)"
      ]
     },
     "execution_count": 50,
     "metadata": {},
     "output_type": "execute_result"
    },
    {
     "data": {
      "image/png": "[encoded data removed]",
      "text/plain": [
       "<Figure size 432x288 with 1 Axes>"
      ]
     },
     "metadata": {
      "needs_background": "light"
     },
     "output_type": "display_data"
    }
   ],
   "source": [
    "plt.hist(nba_players.pts)"
   ]
  },
  {
   "cell_type": "code",
   "execution_count": 51,
   "metadata": {
    "colab": {
     "base_uri": "https://localhost:8080/",
     "height": 414
    },
    "id": "SKdw-DGr-mHV",
    "outputId": "c244beb6-63ff-4f93-a771-ceff4b1c708d"
   },
   "outputs": [
    {
     "data": {
      "text/plain": [
       "{'whiskers': [<matplotlib.lines.Line2D at 0x7fb0f6f1fdf0>,\n",
       "  <matplotlib.lines.Line2D at 0x7fb0f6f2f190>],\n",
       " 'caps': [<matplotlib.lines.Line2D at 0x7fb0f6f2f4f0>,\n",
       "  <matplotlib.lines.Line2D at 0x7fb0f6f2f850>],\n",
       " 'boxes': [<matplotlib.lines.Line2D at 0x7fb0f6f1fa90>],\n",
       " 'medians': [<matplotlib.lines.Line2D at 0x7fb0f6f2fbb0>],\n",
       " 'fliers': [<matplotlib.lines.Line2D at 0x7fb0f6f2ff10>],\n",
       " 'means': []}"
      ]
     },
     "execution_count": 51,
     "metadata": {},
     "output_type": "execute_result"
    },
    {
     "data": {
      "image/png": "[encoded data removed]",
      "text/plain": [
       "<Figure size 432x288 with 1 Axes>"
      ]
     },
     "metadata": {
      "needs_background": "light"
     },
     "output_type": "display_data"
    }
   ],
   "source": [
    "plt.boxplot(nba_players.pts)"
   ]
  },
  {
   "cell_type": "code",
   "execution_count": 52,
   "metadata": {
    "colab": {
     "base_uri": "https://localhost:8080/"
    },
    "id": "T0QkZrpJuS3e",
    "outputId": "5b3bbfe7-590b-4b11-bc38-9fade50ced6c"
   },
   "outputs": [
    {
     "data": {
      "text/plain": [
       "array(['Mitch Richmond', 'Michael Jordan', 'Karl Malone',\n",
       "       \"Shaquille O'Neal\", 'Glen Rice', 'Allen Iverson', 'Vince Carter',\n",
       "       'Grant Hill', 'Paul Pierce', 'Jerry Stackhouse', 'Kobe Bryant',\n",
       "       'Chris Webber', 'Tracy McGrady', 'Tim Duncan', 'Dirk Nowitzki',\n",
       "       'LeBron James', \"Amar'e Stoudemire\", 'Gilbert Arenas',\n",
       "       'Dwyane Wade', 'Carmelo Anthony', 'Ray Allen', 'Michael Redd',\n",
       "       'Kevin Durant', 'Danny Granger', 'Monta Ellis', 'Kevin Love',\n",
       "       'James Harden', 'Russell Westbrook', 'Damian Lillard',\n",
       "       'DeMarcus Cousins', 'Stephen Curry', 'Kawhi Leonard',\n",
       "       'Karl-Anthony Towns', 'Kyrie Irving', 'DeMar DeRozan',\n",
       "       'Anthony Davis', 'Isaiah Thomas', 'Giannis Antetokounmpo',\n",
       "       'Paul George', 'Kemba Walker', 'Devin Booker', 'Bradley Beal',\n",
       "       'Joel Embiid', 'Zach LaVine', 'Trae Young', 'Luka Doncic',\n",
       "       'Zion Williamson', 'Donovan Mitchell', 'Jayson Tatum',\n",
       "       \"De'Aaron Fox\", 'Nikola Jokic'], dtype=object)"
      ]
     },
     "execution_count": 52,
     "metadata": {},
     "output_type": "execute_result"
    }
   ],
   "source": [
    "# lets check outliers\n",
    "nba_players[nba_players.pts >25].player_name.unique()"
   ]
  },
  {
   "cell_type": "code",
   "execution_count": 53,
   "metadata": {
    "colab": {
     "base_uri": "https://localhost:8080/"
    },
    "id": "uW18qGy0s9iG",
    "outputId": "e3213018-3488-4888-9f49-d1e56fa30c4a"
   },
   "outputs": [
    {
     "data": {
      "text/plain": [
       "2.0     302\n",
       "1.8     279\n",
       "1.9     273\n",
       "2.3     267\n",
       "1.5     257\n",
       "       ... \n",
       "16.1      1\n",
       "14.5      1\n",
       "14.0      1\n",
       "14.2      1\n",
       "13.4      1\n",
       "Name: reb, Length: 152, dtype: int64"
      ]
     },
     "execution_count": 53,
     "metadata": {},
     "output_type": "execute_result"
    }
   ],
   "source": [
    "nba_players.reb.value_counts()"
   ]
  },
  {
   "cell_type": "code",
   "execution_count": 54,
   "metadata": {
    "id": "nmu2ASKstDMm"
   },
   "outputs": [
    {
     "data": {
      "text/plain": [
       "(array([2613., 3794., 2524., 1353.,  693.,  373.,  223.,   81.,   35.,\n",
       "          11.]),\n",
       " array([ 0.  ,  1.63,  3.26,  4.89,  6.52,  8.15,  9.78, 11.41, 13.04,\n",
       "        14.67, 16.3 ]),\n",
       " <BarContainer object of 10 artists>)"
      ]
     },
     "execution_count": 54,
     "metadata": {},
     "output_type": "execute_result"
    },
    {
     "data": {
      "image/png": "[encoded data removed]",
      "text/plain": [
       "<Figure size 432x288 with 1 Axes>"
      ]
     },
     "metadata": {
      "needs_background": "light"
     },
     "output_type": "display_data"
    }
   ],
   "source": [
    "plt.hist(nba_players.reb)"
   ]
  },
  {
   "cell_type": "markdown",
   "metadata": {
    "id": "UZrZbGY9-krS"
   },
   "source": [
    "# Part-IV\n",
    "\n",
    "## Labs\n",
    "\n",
    "complete the lab files\n"
   ]
  },
  {
   "cell_type": "code",
   "execution_count": null,
   "metadata": {},
   "outputs": [],
   "source": []
  }
 ],
 "metadata": {
  "colab": {
   "collapsed_sections": [],
   "name": "Instructor_Copy_Visualization.ipynb",
   "provenance": []
  },
  "kernelspec": {
   "display_name": "Python 3 (ipykernel)",
   "language": "python",
   "name": "python3"
  },
  "language_info": {
   "codemirror_mode": {
    "name": "ipython",
    "version": 3
   },
   "file_extension": ".py",
   "mimetype": "text/x-python",
   "name": "python",
   "nbconvert_exporter": "python",
   "pygments_lexer": "ipython3",
   "version": "3.9.7"
  },
  "toc": {
   "base_numbering": 1,
   "nav_menu": {},
   "number_sections": false,
   "sideBar": true,
   "skip_h1_title": false,
   "title_cell": "Table of Contents",
   "title_sidebar": "Contents",
   "toc_cell": false,
   "toc_position": {
    "height": "calc(100% - 180px)",
    "left": "10px",
    "top": "150px",
    "width": "204px"
   },
   "toc_section_display": true,
   "toc_window_display": true
  }
 },
 "nbformat": 4,
 "nbformat_minor": 1
}
